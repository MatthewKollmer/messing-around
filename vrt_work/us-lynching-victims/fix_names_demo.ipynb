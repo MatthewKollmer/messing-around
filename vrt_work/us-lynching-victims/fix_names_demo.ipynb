{
 "cells": [
  {
   "metadata": {},
   "cell_type": "markdown",
   "source": [
    "# Fix Names Demo\n",
    "\n",
    "### 1) Overview\n",
    "\n",
    "One important part of curating the dataset from Chronicling America's search hits has been identifying victim names in the results. Given that the searches were conducted using victim's names, you'd think it would be easy to identify them in the results. But there's been a complication. I've discovered that Chronicling America uses a kind of fuzzy matching in its newspaper search. That means it identifies not just pages with the exact word or phrase from the search, but rather all pages with words or phrases that are similar based on certain parameters.\n",
    "\n",
    "What are those parameters? I'm not sure about all of them, but after reviewing some of the data by hand, I know that Chron Am labels pages as search hits if the searched phrase appears on the page with just one or so characters off. This is undoubtedly to account for the OCR errors in their digitized newspaper data–to ensure the search on Chron Am pulls hits even if they have OCR errors.\n",
    "\n",
    "This is a good practice, in my opinion, but it does make things more complicated when you have to filter the data in subsequent steps. For example, in my case, I want to identify where the victim's name appears on each pulled newspaper page and create my own fuzzy-matched newspaper clipping. In other words, I need to identify where the victim's name appears so I can take the series of words before and after and treat them like a clipping from the digitized form of the paper. This is essential for the rest of my process, but how to identify the names when so many pulled pages _technically_ do not contain them as perfect matches?\n",
    "\n",
    "To address this problem, I've tried to redraft my previous [fix_names() function](https://github.com/MatthewKollmer/messing-around/blob/main/vrt_work/say_their_names/build_refine_dataset.ipynb), making it more robust and effective. In a sense, you can imagine this function as basically an attempt to reverse engineer Chron Am's fuzzy matching. In that sense, it is a failure since fix_names() does not account for all the ways Chron Am labels text as a potential search match. However, the fix_names() function does a better job than its earlier versions. It improves the data I've scraped from Chron Am tremendously. It's also relatively simple–simple enough for me to explain in one notebook, anyway.\n",
    "\n",
    "So, I'll start with a breakdown of the function. Then I'll show how it works with some example text and code. The hope is that this notebook clarifies one important step in our data curation process and underscores how our data, while significant, is in no way representative of the whole of lynching reports, not even in our own pulled search results."
   ],
   "id": "fefe4dda8081442"
  },
  {
   "metadata": {
    "ExecuteTime": {
     "end_time": "2025-01-07T22:02:33.313062Z",
     "start_time": "2025-01-07T22:02:33.309969Z"
    }
   },
   "cell_type": "code",
   "source": "import re",
   "id": "c23d6b94fe5e1038",
   "outputs": [],
   "execution_count": 1
  },
  {
   "metadata": {},
   "cell_type": "markdown",
   "source": [
    "### 2) Function Explanation\n",
    "\n",
    "Let me start by saying that the fix_names() function is fairly conservative. It will only correct the following:\n",
    "\n",
    "- names with three or more characters\n",
    "- names with only one incorrect character\n",
    "- instances where the names are missing a space between them\n",
    "- instances where the names are separated by a non-word character (i.e. incorrect punctuation)\n",
    "\n",
    "Here's how it works in a nutshell: the function takes the text and the victim's name. It splits the victim's name into parts (first name, last name, etc.). If the parts are three or more characters long, it compiles a list of potential variations where each variation is almost correct, but just one character off. Then it unifies the name parts (and their potential variations) and scours the text, looking for matches. If it finds a match with one character off per name part, it corrects it. It also identifies names that are missing spaces, or those split by misplaced punctuation, and corrects them.\n",
    "\n",
    "That's a fair amount of OCR correction, but I still think it's conservative since Chron Am's fuzzy matching labels far more hits than are corrected with this function. Chron Am's fuzzy matching also brought these correctable instances into the data in the first place, so they should not be considered a new risk for false positives. \n",
    "\n",
    "On that note, I should emphasize that this is nowhere near the last step in filtering the data for lynching reports. It's only a step that bolsters our ability to identify victim names in the data."
   ],
   "id": "683848579d69a35c"
  },
  {
   "cell_type": "code",
   "id": "initial_id",
   "metadata": {
    "collapsed": true,
    "ExecuteTime": {
     "end_time": "2025-01-07T22:02:33.326290Z",
     "start_time": "2025-01-07T22:02:33.323205Z"
    }
   },
   "source": [
    "# A Function That Corrects Names in Text\n",
    "# It takes parameters 'text' and 'victim_name'.\n",
    "def fix_names(text, victim_name):\n",
    "    # It splits victim_name into parts.\n",
    "    full_name = victim_name.split()\n",
    "    \n",
    "    # It recognizes the first part as first_name,\n",
    "    # the second part as second_name.\n",
    "    # If there are three or more name parts,\n",
    "    # they are defined as first_name and second_name\n",
    "    # in relation to one another.\n",
    "    for i in range(len(full_name) - 1):\n",
    "        first_name = full_name[i]\n",
    "        second_name = full_name[i + 1]\n",
    "\n",
    "        # If the length of first_name is equal to or greater than 3,\n",
    "        # it compiles a list of potential variations.\n",
    "        if len(first_name) >= 3:\n",
    "            first_variants = [re.escape(first_name)]\n",
    "            # The viable variations only include instances where\n",
    "            # there is just one incorrect character.\n",
    "            for character in range(len(first_name)):\n",
    "                first_variants.append(re.escape(first_name[:character]) + '.' + re.escape(first_name[character+1:]))\n",
    "        # If the name is only one or two characters in length,\n",
    "        # it is skipped. It will not be considered for correction.\n",
    "        else:\n",
    "            first_variants = [re.escape(first_name)]\n",
    "\n",
    "        # If the length of second_name is equal to or greater than 3,\n",
    "        # it compiles a list of potential variations.\n",
    "        if len(second_name) >= 3:\n",
    "            second_variants = [re.escape(second_name)]\n",
    "            # The viable variations only include instances where\n",
    "            # there is just one incorrect character.\n",
    "            for character in range(len(second_name)):\n",
    "                second_variants.append(re.escape(second_name[:character]) + '.' + re.escape(second_name[character+1:]))\n",
    "        # If the name is only one or two characters in length,\n",
    "        # it is skipped. It will not be considered for correction.\n",
    "        else:\n",
    "            second_variants = [re.escape(second_name)]\n",
    "\n",
    "        # The OCR patterns are assembled. They are put into\n",
    "        # non-captured groups (the ?: below). This basically \n",
    "        # means the variations are not saved in memory after \n",
    "        # the execution of the function. This helps to ensure \n",
    "        # the code doesn't run slowly or use too much memory.\n",
    "        first_pattern = '(?:' + '|'.join(first_variants) + ')'\n",
    "        second_pattern = '(?:' + '|'.join(second_variants) + ')'\n",
    "        \n",
    "        # Both combinations of patterns are assembled into one pattern\n",
    "        # with any non-word character in between them. Variations in \n",
    "        # uppercase/lowercase are ignored.\n",
    "        pattern = re.compile(rf'({first_pattern})\\W*({second_pattern})', flags=re.IGNORECASE)\n",
    "        \n",
    "        # Using the compiled patterns of potential OCR errors,\n",
    "        # the function runs through the text and substitutes\n",
    "        # potential errors with the correct spellings of names.\n",
    "        text = pattern.sub(f' {first_name} {second_name} ', text)\n",
    "\n",
    "    # If the above substitutions create multiple spaces,\n",
    "    # they are replaced with just one space.\n",
    "    text = ' '.join(text.split())\n",
    "    \n",
    "    # The corrected text is returned.    \n",
    "    return text"
   ],
   "outputs": [],
   "execution_count": 2
  },
  {
   "metadata": {},
   "cell_type": "markdown",
   "source": [
    "### 3) Demonstrations\n",
    "\n",
    "Below are a series of simple demonstrations showing how and when the function makes corrections (and when it doesn't). Feel free to change the 'text' in the examples below and see if the function works as described!\n",
    "<br>\n",
    "<br>\n",
    "\n",
    "#### Example 1: Bill Wiley Douglass"
   ],
   "id": "8c2d0c96ebd83368"
  },
  {
   "metadata": {
    "ExecuteTime": {
     "end_time": "2025-01-07T22:02:34.907897Z",
     "start_time": "2025-01-07T22:02:34.904174Z"
    }
   },
   "cell_type": "code",
   "source": [
    "victim_name = 'bill wiley douglass'\n",
    "\n",
    "# example misspellings include:\n",
    "# 1) first name correct, second name one character off, third name one character off\n",
    "# 2) first name one character off, second and third name missing a space\n",
    "# 3) first name with more than two incorrect characters (therefore uncorrected), second name one character off, third name one character off\n",
    "text = 'Bill Wizey bouglass, 8ill WileyDouglass, blth miley douglasz'\n",
    "\n",
    "result = fix_names(text, victim_name)\n",
    "print(result)"
   ],
   "id": "5ee3df91cd2a1dfc",
   "outputs": [
    {
     "name": "stdout",
     "output_type": "stream",
     "text": [
      "bill wiley douglass , bill wiley douglass , blth wiley douglass\n"
     ]
    }
   ],
   "execution_count": 3
  },
  {
   "metadata": {},
   "cell_type": "markdown",
   "source": "#### Example 2: James J Johnson",
   "id": "b17c2e1ad887a161"
  },
  {
   "metadata": {
    "ExecuteTime": {
     "end_time": "2025-01-07T22:02:36.279591Z",
     "start_time": "2025-01-07T22:02:36.277548Z"
    }
   },
   "cell_type": "code",
   "source": [
    "victim_name = 'james j johnson'\n",
    "\n",
    "# example misspellings include:\n",
    "# 1) first name one character off plus misplaced punctuation, second name uncorrected since it's only one character, third name correct\n",
    "# 2) name corrected to add spaces between parts\n",
    "# 3) name corrected so misplaced punctuation is removed\n",
    "text = 'games.t johnson, jamesjjohnson, james.j. johnson'\n",
    "\n",
    "result = fix_names(text, victim_name)\n",
    "print(result)"
   ],
   "id": "9f1931f423e72742",
   "outputs": [
    {
     "name": "stdout",
     "output_type": "stream",
     "text": [
      "games.t johnson, james j johnson , james j johnson\n"
     ]
    }
   ],
   "execution_count": 4
  },
  {
   "metadata": {},
   "cell_type": "markdown",
   "source": "#### Example 3: Si King",
   "id": "e1121a8e049342ee"
  },
  {
   "metadata": {
    "ExecuteTime": {
     "end_time": "2025-01-07T22:02:37.463675Z",
     "start_time": "2025-01-07T22:02:37.461840Z"
    }
   },
   "cell_type": "code",
   "source": [
    "victim_name = 'si king'\n",
    "\n",
    "# example misspellings include:\n",
    "# 1) first name left since it's only two characters long\n",
    "# 2) name corrected to add spaces between parts\n",
    "# 3) second name corrected since it only has one character off\n",
    "text = 'Ti King, siking, si wing'\n",
    "\n",
    "result = fix_names(text, victim_name)\n",
    "print(result)"
   ],
   "id": "ca2bee13e92a035c",
   "outputs": [
    {
     "name": "stdout",
     "output_type": "stream",
     "text": [
      "Ti King, si king , si king\n"
     ]
    }
   ],
   "execution_count": 5
  },
  {
   "metadata": {},
   "cell_type": "code",
   "outputs": [],
   "execution_count": null,
   "source": "",
   "id": "44fb38e9d4c0078a"
  }
 ],
 "metadata": {
  "kernelspec": {
   "display_name": "Python 3",
   "language": "python",
   "name": "python3"
  },
  "language_info": {
   "codemirror_mode": {
    "name": "ipython",
    "version": 2
   },
   "file_extension": ".py",
   "mimetype": "text/x-python",
   "name": "python",
   "nbconvert_exporter": "python",
   "pygments_lexer": "ipython2",
   "version": "2.7.6"
  }
 },
 "nbformat": 4,
 "nbformat_minor": 5
}

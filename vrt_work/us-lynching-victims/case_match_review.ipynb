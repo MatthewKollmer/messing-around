{
 "cells": [
  {
   "cell_type": "markdown",
   "id": "ba1128947d9c62c",
   "metadata": {},
   "source": [
    "# A Little Notebook with Steps to Review Case Matches One by One"
   ]
  },
  {
   "cell_type": "code",
   "id": "33434c98b2204b36",
   "metadata": {},
   "source": [
    "import pandas as pd"
   ],
   "outputs": [],
   "execution_count": null
  },
  {
   "cell_type": "markdown",
   "id": "f57bf8eb-fe88-4d5c-8da9-5cf5e9c38a9e",
   "metadata": {},
   "source": [
    "## Click Mitchell Case"
   ]
  },
  {
   "cell_type": "code",
   "id": "a157136667cc1c3b",
   "metadata": {},
   "source": [
    "click_mitchell_df = pd.read_csv('lynch_clusters_02_refined/\"click\"_mitchell.csv')"
   ],
   "outputs": [],
   "execution_count": null
  },
  {
   "cell_type": "code",
   "id": "1d0def7de9ff8d07",
   "metadata": {},
   "source": [
    "click_mitchell_df['clippings'][0]"
   ],
   "outputs": [],
   "execution_count": null
  },
  {
   "cell_type": "markdown",
   "id": "bebc7c6a4e74a4ec",
   "metadata": {},
   "source": [
    "#### case_match column code:\n",
    "\n",
    "- 'yes' = yes, the clipping is entirely about a case of racial violence\n",
    "- 'no' = no, the clipping has nothing to do with racial violence\n",
    "- 'partial' = part of the clipping is about racial violence, but not all of it\n",
    "- 'unknown' = the clipping is in a language I can't read or the OCR is so bad it's hard to tell"
   ]
  },
  {
   "cell_type": "code",
   "id": "7b0c694c90a530f5",
   "metadata": {},
   "source": [
    "case_match_values = []\n",
    " \n",
    "for index, clipping in click_mitchell_df['clippings'].items():\n",
    "    print('---------------------------------------')\n",
    "    print('---------------------------------------')\n",
    "    print('---------------------------------------')\n",
    "    print(clipping)\n",
    "    print()\n",
    "    case_match = input(f'case_match value: ')\n",
    "        \n",
    "    case_match_values.append(case_match)\n",
    "        \n",
    "click_mitchell_df['case_match'] = case_match_values"
   ],
   "outputs": [],
   "execution_count": null
  },
  {
   "cell_type": "code",
   "id": "eec88856369e6708",
   "metadata": {
    "scrolled": true
   },
   "source": [
    "click_mitchell_df.head()"
   ],
   "outputs": [],
   "execution_count": null
  },
  {
   "cell_type": "code",
   "id": "8d574564b4f91e55",
   "metadata": {},
   "source": [
    "click_mitchell_df.to_csv('\"click\"_mitchell.csv', index=False)"
   ],
   "outputs": [],
   "execution_count": null
  },
  {
   "cell_type": "markdown",
   "id": "d2110039-bbf1-44d9-a204-6904385e1bc6",
   "metadata": {},
   "source": [
    "#### Some Notes on the Click Mitchell Case:\n",
    "\n",
    "Most partials are because the clipping window was too wide, especially where it includes words preceding the victim's name. In other words, in many cases 150 words prior to the victim's name was too many. Perhaps cut the window size to 50 before victim's name, and 150 after?\n",
    "\n",
    "Some of the early reports claimed the mob was deterred by the miltary. Others say it was not. The latter reports discuss the skirmish and deaths of people in the mob. Apparently there was a shootout before the lynching occurred. Some of the last reports (the ones from the following year) mention the case as a mode of comparison to other instances of racial violence. There were also some that seem to indicate the Click Mitchell case resulted in court cases against the military for failing to protect Mitchell.\n",
    "\n",
    "All the clippings were at least partially about the lynching of Click Mitchell: 61/85 partial, 24/85 yes."
   ]
  },
  {
   "cell_type": "code",
   "id": "52414224-c033-4661-b6b9-d199de8ca223",
   "metadata": {},
   "source": [
    "click_mitchell_df['case_match'].value_counts()"
   ],
   "outputs": [],
   "execution_count": null
  },
  {
   "cell_type": "markdown",
   "id": "c1e5b624-7596-433f-b143-c6aba05c6394",
   "metadata": {},
   "source": [
    "## Sunny Powell Case"
   ]
  },
  {
   "cell_type": "markdown",
   "id": "7c0cac1b-cb77-48ec-b21b-c63654ecb79f",
   "metadata": {},
   "source": [
    "#### case_match column code:\n",
    "\n",
    "- 'yes' = yes, the clipping is entirely about a case of racial violence\n",
    "- 'no' = no, the clipping has nothing to do with racial violence\n",
    "- 'partial' = part of the clipping is about racial violence, but not all of it\n",
    "- 'unknown' = the clipping is in a language I can't read or the OCR is so bad it's hard to tell"
   ]
  },
  {
   "cell_type": "code",
   "id": "3d1f6d95-fda3-4465-b0bf-106631f5a90b",
   "metadata": {},
   "source": [
    "sunny_powell_df = pd.read_csv('lynch_clusters_02_refined/\"sunny\"_powell.csv')"
   ],
   "outputs": [],
   "execution_count": null
  },
  {
   "cell_type": "code",
   "id": "14291c2a-f108-4329-9426-1acc7f1ede92",
   "metadata": {},
   "source": [
    "sunny_powell_df['clippings'][0]"
   ],
   "outputs": [],
   "execution_count": null
  },
  {
   "cell_type": "code",
   "id": "9b0ed921-50ab-47cf-9684-6a63df5491d5",
   "metadata": {
    "scrolled": true
   },
   "source": [
    "case_match_values = []\n",
    " \n",
    "for index, clipping in sunny_powell_df['clippings'].items():\n",
    "    print('---------------------------------------')\n",
    "    print('---------------------------------------')\n",
    "    print('---------------------------------------')\n",
    "    print(clipping)\n",
    "    print()\n",
    "    case_match = input(f'case_match value: ')\n",
    "        \n",
    "    case_match_values.append(case_match)\n",
    "        \n",
    "sunny_powell_df['case_match'] = case_match_values"
   ],
   "outputs": [],
   "execution_count": null
  },
  {
   "cell_type": "code",
   "id": "b98245e2-67a9-40c6-89a5-e8dbcf1c7fef",
   "metadata": {},
   "source": [
    "sunny_powell_df"
   ],
   "outputs": [],
   "execution_count": null
  },
  {
   "cell_type": "code",
   "id": "d05e6349-8214-47d2-a8bd-66da8fb13d47",
   "metadata": {},
   "source": [
    "sunny_powell_df.to_csv('\"sunny\"powell.csv', index=False)"
   ],
   "outputs": [],
   "execution_count": null
  },
  {
   "cell_type": "markdown",
   "id": "07369126-8638-4f63-b59c-687018f6d6d9",
   "metadata": {},
   "source": [
    "#### Sunny Powell Case Notes:\n",
    "\n",
    "Only two instances in this file. Both are partials. Both note the mob also attacked the jailers."
   ]
  },
  {
   "cell_type": "code",
   "id": "4ffb61f4-3d5b-416a-a715-0f8dfa062808",
   "metadata": {},
   "source": [
    "sunny_powell_df['case_match'].value_counts()"
   ],
   "outputs": [],
   "execution_count": null
  },
  {
   "cell_type": "markdown",
   "id": "3c60671e-01f5-40ec-91b0-757e73e2f62c",
   "metadata": {},
   "source": [
    "## A.B. Rich Case"
   ]
  },
  {
   "cell_type": "markdown",
   "id": "33672f3e-ff6d-4f0b-8704-f128afe186c2",
   "metadata": {},
   "source": [
    "#### case_match column code:\n",
    "\n",
    "- 'yes' = yes, the clipping is entirely about a case of racial violence\n",
    "- 'no' = no, the clipping has nothing to do with racial violence\n",
    "- 'partial' = part of the clipping is about racial violence, but not all of it\n",
    "- 'unknown' = the clipping is in a language I can't read or the OCR is so bad it's hard to tell"
   ]
  },
  {
   "cell_type": "code",
   "id": "0068f8d6-e7df-4002-a272-50f451f28316",
   "metadata": {},
   "source": [
    "ab_rich_df = pd.read_csv('lynch_clusters_02_refined/a._b._rich.csv')"
   ],
   "outputs": [],
   "execution_count": null
  },
  {
   "cell_type": "code",
   "id": "97397d6b-ba9f-40d3-b5e9-b63ccdfd4642",
   "metadata": {},
   "source": [
    "ab_rich_df['clippings'][0]"
   ],
   "outputs": [],
   "execution_count": null
  },
  {
   "cell_type": "code",
   "id": "7c8ec609-a47a-4fcf-a751-55fb509fed33",
   "metadata": {
    "scrolled": true
   },
   "source": [
    "case_match_values = []\n",
    " \n",
    "for index, clipping in ab_rich_df['clippings'].items():\n",
    "    print('---------------------------------------')\n",
    "    print('---------------------------------------')\n",
    "    print('---------------------------------------')\n",
    "    print(clipping)\n",
    "    print()\n",
    "    case_match = input(f'case_match value: ')\n",
    "        \n",
    "    case_match_values.append(case_match)\n",
    "        \n",
    "ab_rich_df['case_match'] = case_match_values"
   ],
   "outputs": [],
   "execution_count": null
  },
  {
   "cell_type": "code",
   "id": "a94195e1-4a19-44d6-bf6d-1282e4e55326",
   "metadata": {},
   "source": [
    "ab_rich_df"
   ],
   "outputs": [],
   "execution_count": null
  },
  {
   "cell_type": "code",
   "id": "5ecc9287-318f-41c7-a39c-068317790269",
   "metadata": {},
   "source": [
    "ab_rich_df.to_csv('a._b._rich.csv', index=False)"
   ],
   "outputs": [],
   "execution_count": null
  },
  {
   "cell_type": "markdown",
   "id": "4f7c77b0-ccc4-47f1-bfcf-d347b8b003a9",
   "metadata": {},
   "source": [
    "#### A.B. Rich Case Notes:\n",
    "\n",
    "This csv has empty NaN values in the 'clippings' column. This probably has something to do with the way I've extracted the names; that is, A.B. Rich is probably not getting clipped from the 'text' column because of my fix_names() function which corrects OCR based on whitespace characters between alphabetical characters. And so, those periods in A.B. probably threw it off.\n",
    "\n",
    "The note here is that any and all files with anything other than alphabetical characters and underscores are probably not perfectly accounted for in my code. Must go back and fix."
   ]
  },
  {
   "cell_type": "code",
   "id": "3562847b-13d0-4da5-bde4-0e0fcc5d3a47",
   "metadata": {},
   "source": [
    "ab_rich_df['case_match'].value_counts()"
   ],
   "outputs": [],
   "execution_count": null
  },
  {
   "cell_type": "markdown",
   "id": "2912cd79-03c0-4765-92d6-3992cacda8ad",
   "metadata": {},
   "source": [
    "## A.D. McGee Case:\n",
    "\n",
    "Skipping, since it probably has the same issue as A.B. Rich."
   ]
  },
  {
   "cell_type": "markdown",
   "id": "a01c6252-d3cc-4ae5-8d82-a588ba01d158",
   "metadata": {},
   "source": [
    "## Aaron Bean Case:"
   ]
  },
  {
   "cell_type": "code",
   "id": "c7ec5884-7cc1-4896-8c7c-acc6553cf7f5",
   "metadata": {},
   "source": [
    "aaron_bean_df = pd.read_csv('lynch_clusters_02_refined/aaron_bean.csv')\n",
    "aaron_bean_df['clippings'][0]"
   ],
   "outputs": [],
   "execution_count": null
  },
  {
   "cell_type": "markdown",
   "id": "f839fc09-4e82-456a-9032-08a6659a63ac",
   "metadata": {},
   "source": [
    "#### case_match column code:\n",
    "- 'yes' = yes, the clipping is entirely about a case of racial violence\n",
    "- 'no' = no, the clipping has nothing to do with racial violence\n",
    "- 'partial' = part of the clipping is about racial violence, but not all of it\n",
    "- 'unknown' = the clipping is in a language I can't read or the OCR is so bad it's hard to tell"
   ]
  },
  {
   "cell_type": "code",
   "id": "a0d524a3-a411-4678-b40d-abfc8c08e217",
   "metadata": {
    "scrolled": true
   },
   "source": [
    "case_match_values = []\n",
    " \n",
    "for index, clipping in aaron_bean_df['clippings'].items():\n",
    "    print('---------------------------------------')\n",
    "    print('---------------------------------------')\n",
    "    print('---------------------------------------')\n",
    "    print(clipping)\n",
    "    print()\n",
    "    case_match = input(f'case_match value: ')\n",
    "        \n",
    "    case_match_values.append(case_match)\n",
    "        \n",
    "aaron_bean_df['case_match'] = case_match_values"
   ],
   "outputs": [],
   "execution_count": null
  },
  {
   "cell_type": "code",
   "id": "3a926746-58fb-4a5c-be9c-9e43e9efdd4b",
   "metadata": {},
   "source": [
    "aaron_bean_df"
   ],
   "outputs": [],
   "execution_count": null
  },
  {
   "cell_type": "code",
   "id": "b9e72cff-4e56-4943-85cc-48dabeebc04f",
   "metadata": {},
   "source": [
    "aaron_bean_df.to_csv('aaron_bean.csv', index=False)"
   ],
   "outputs": [],
   "execution_count": null
  },
  {
   "cell_type": "markdown",
   "id": "860acf6d-dd72-4c8d-a501-6908423e1321",
   "metadata": {},
   "source": [
    "#### Aaron Bean Case Notes:\n",
    "\n",
    "Unlike the Click Mitchell case, these reports were very brief. They mostly stated the place, the name of the victim, and the fact that he was lynched by a mob."
   ]
  },
  {
   "cell_type": "code",
   "id": "1c15b80d-c08b-49d6-b4c6-ec4de6dff4f3",
   "metadata": {},
   "source": [
    "aaron_bean_df['case_match'].value_counts()"
   ],
   "outputs": [],
   "execution_count": null
  },
  {
   "cell_type": "markdown",
   "id": "21599431-9148-4bbe-8603-c870e3d304a4",
   "metadata": {},
   "source": [
    "## Aaron Thomas Case"
   ]
  },
  {
   "cell_type": "code",
   "id": "db9c4aca-3244-413d-b974-3472286f1df8",
   "metadata": {},
   "source": [
    "aaron_thomas_df = pd.read_csv('lynch_clusters_02_refined/aaron_thomas.csv')\n",
    "aaron_thomas_df['clippings'][0]"
   ],
   "outputs": [],
   "execution_count": null
  },
  {
   "cell_type": "markdown",
   "id": "937c759d-c209-4c4b-b4b9-ee6cbcfdc613",
   "metadata": {},
   "source": [
    "#### case_match column code:\n",
    "- 'yes' = yes, the clipping is entirely about a case of racial violence\n",
    "- 'no' = no, the clipping has nothing to do with racial violence\n",
    "- 'partial' = part of the clipping is about racial violence, but not all of it\n",
    "- 'unknown' = the clipping is in a language I can't read or the OCR is so bad it's hard to tell"
   ]
  },
  {
   "cell_type": "code",
   "id": "6b42a121-acab-4550-9fc1-f37c46594f1e",
   "metadata": {
    "scrolled": true
   },
   "source": [
    "case_match_values = []\n",
    " \n",
    "for index, clipping in aaron_thomas_df['clippings'].items():\n",
    "    print('---------------------------------------')\n",
    "    print('---------------------------------------')\n",
    "    print('---------------------------------------')\n",
    "    print(clipping)\n",
    "    print()\n",
    "    case_match = input(f'case_match value: ')\n",
    "        \n",
    "    case_match_values.append(case_match)\n",
    "        \n",
    "aaron_thomas_df['case_match'] = case_match_values"
   ],
   "outputs": [],
   "execution_count": null
  },
  {
   "cell_type": "code",
   "id": "9b92c49f-ea95-40a3-9b62-1e36f240527b",
   "metadata": {},
   "source": [
    "aaron_thomas_df.head()"
   ],
   "outputs": [],
   "execution_count": null
  },
  {
   "cell_type": "code",
   "id": "4876d1ab-8bac-493d-a737-4858802481e0",
   "metadata": {},
   "source": [
    "aaron_thomas_df.to_csv('aaron_thomas.csv', index=False)"
   ],
   "outputs": [],
   "execution_count": null
  },
  {
   "cell_type": "markdown",
   "id": "0d47e745-ff04-4cb4-9b16-bcc4f9354c73",
   "metadata": {},
   "source": [
    "#### Aaron Thomas Case Notes:\n",
    "\n",
    "In this case, Aaron Thomas, reportedly 13 years old, was lynched alongside six other family members whom the mob had accused of murder and arson. Many of these hits are reprints.\n",
    "\n",
    "Some articles are claiming the mob was an all Black mob seeking vengance because the people Thomas and his family purportedly murdered were also Black. Most do not mention any details about the mob. Very sus reporting here.\n",
    "\n",
    "Some articles are reprints of lists of accused and their purported crimes. In these lists, Click Mitchell is also named but under his legal name \"Charles Mitchell\". I'm almost certain this is the same Click Mitchell because the list also gives the place: Urbana, OH. They just didn't appear in the Click Mitchell list because of the use of the alias.\n",
    "\n",
    "Another note on the lists of accused: I put them down as 'partial' since they do name the victim and reference the crime that led to their lynching."
   ]
  },
  {
   "cell_type": "code",
   "id": "60c7b8c2-340d-451a-a6e9-76c590238cfe",
   "metadata": {},
   "source": [
    "aaron_thomas_df['case_match'].value_counts()"
   ],
   "outputs": [],
   "execution_count": null
  },
  {
   "cell_type": "markdown",
   "id": "84c4b806-0026-4e26-923e-57aa751bf4b0",
   "metadata": {},
   "source": [
    "## Summary\n",
    "\n",
    "I reviewed 171 hits. Their results were:\n",
    "\n",
    "- 'yes' total: 56\n",
    "- 'no' total: 11\n",
    "- 'partial' total: 101\n",
    "- 'unknown' total: 3\n",
    "\n",
    "This is pretty satisfying. The vast majority of the 'clippings' contain total or partial amounts of racial violence reports. The false positives are probably a little higher here, too, since 8/11 'no' instances came from a csv that probably did not extract the clippings correctly (see my note above about a._b._rich.csv)."
   ]
  },
  {
   "cell_type": "code",
   "id": "0c1c9573-8885-4571-9156-fafb360872fb",
   "metadata": {},
   "source": [],
   "outputs": [],
   "execution_count": null
  }
 ],
 "metadata": {
  "kernelspec": {
   "display_name": "Python 3 (ipykernel)",
   "language": "python",
   "name": "python3"
  },
  "language_info": {
   "codemirror_mode": {
    "name": "ipython",
    "version": 3
   },
   "file_extension": ".py",
   "mimetype": "text/x-python",
   "name": "python",
   "nbconvert_exporter": "python",
   "pygments_lexer": "ipython3",
   "version": "3.11.5"
  }
 },
 "nbformat": 4,
 "nbformat_minor": 5
}

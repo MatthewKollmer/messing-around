{
 "cells": [
  {
   "metadata": {},
   "cell_type": "markdown",
   "source": [
    "# Steps to Preprocessing the Seguin/Rigby Lynching Dataset\n",
    "\n",
    "The dataset contains over 1,000 lynching events documented in this study: [https://journals.sagepub.com/doi/pdf/10.1177/2378023119841780](https://journals.sagepub.com/doi/pdf/10.1177/2378023119841780)\n",
    "\n",
    "The data was retrieved from here: [https://archive.ciser.cornell.edu/studies/2833/data-and-documentation](https://archive.ciser.cornell.edu/studies/2833/data-and-documentation)\n",
    "\n",
    "The goal of this notebook is to extract data regarding non-white lynchings that can be used to scrape Chron Am or other newspaper datasets. Relevant data will be 1) names of victims, 2) city names, and 3) dates.\n",
    "\n",
    "This data will then go into a pipeline for scraping newspapers.\n"
   ],
   "id": "3712be291d4bb190"
  },
  {
   "metadata": {},
   "cell_type": "code",
   "source": "import pandas as pd",
   "id": "8c45906626634807",
   "outputs": [],
   "execution_count": null
  },
  {
   "metadata": {},
   "cell_type": "code",
   "source": "df = pd.read_csv('seguin_rigby_lynching_data.csv')",
   "id": "7a66980956a90961",
   "outputs": [],
   "execution_count": null
  },
  {
   "metadata": {},
   "cell_type": "code",
   "source": "df.head()",
   "id": "7772c9bcc8e4104c",
   "outputs": [],
   "execution_count": null
  },
  {
   "metadata": {},
   "cell_type": "code",
   "source": [
    "df = df[df['race'] == 'Black']\n",
    "df.head()"
   ],
   "id": "5486baf9cb811d1a",
   "outputs": [],
   "execution_count": null
  },
  {
   "metadata": {},
   "cell_type": "code",
   "source": [
    "df = df[df['victim'] != 'Unknown']\n",
    "len(df)"
   ],
   "id": "b605e0a397371945",
   "outputs": [],
   "execution_count": null
  },
  {
   "metadata": {},
   "cell_type": "code",
   "source": "df",
   "id": "c400f7da2715d3bb",
   "outputs": [],
   "execution_count": null
  },
  {
   "metadata": {},
   "cell_type": "code",
   "source": [
    "df = df[df['year'] <= 1921]\n",
    "df"
   ],
   "id": "ef0349249a338e6e",
   "outputs": [],
   "execution_count": null
  },
  {
   "metadata": {},
   "cell_type": "code",
   "source": [
    "df['city'] = df['city'].str.lower()\n",
    "df['victim'] = df['victim'].str.lower()"
   ],
   "id": "94b428f127e9290c",
   "outputs": [],
   "execution_count": null
  },
  {
   "metadata": {},
   "cell_type": "code",
   "source": [
    "df = df[df['city'] != '.']\n",
    "df"
   ],
   "id": "fc2faae43958221b",
   "outputs": [],
   "execution_count": null
  },
  {
   "metadata": {},
   "cell_type": "code",
   "source": [
    "df = df[df['victim'].str.split().str.len() >= 2]\n",
    "df"
   ],
   "id": "c2434c7f9f65f4c8",
   "outputs": [],
   "execution_count": null
  },
  {
   "metadata": {},
   "cell_type": "code",
   "source": [
    "df['victim'] = df['victim'].str.replace('/', ', ', regex=False)\n",
    "df['victim'] = df['victim'].str.replace(r'[,\\|(].*', '', regex=True)"
   ],
   "id": "1e960715562f5513",
   "outputs": [],
   "execution_count": null
  },
  {
   "metadata": {},
   "cell_type": "code",
   "source": "df = df.dropna(subset=['city'])",
   "id": "2a7539664e3491d7",
   "outputs": [],
   "execution_count": null
  },
  {
   "metadata": {},
   "cell_type": "markdown",
   "source": [
    "df now contains the following:\n",
    "\n",
    "1) all instances in the data where the victim's race is Black AND\n",
    "2) the event falls within the range of 1883 to 1921 AND\n",
    "3) with second names, aliases, or unknown names removed AND\n",
    "4) with unknown cities removed.\n"
   ],
   "id": "9aa1c767b712ea6c"
  },
  {
   "metadata": {},
   "cell_type": "code",
   "source": "df",
   "id": "4ce63d655757891c",
   "outputs": [],
   "execution_count": null
  },
  {
   "metadata": {},
   "cell_type": "markdown",
   "source": [
    "Now here's a function to build search urls that identify instances of the victim name, year, and city name when it appears within 100 tokens of the victim name in ChronAm. This function is based on this url structure:\n",
    "\n",
    "[https://chroniclingamerica.loc.gov/search/pages/results/list/?date1=1883&rows=100&searchType=advanced&language=&proxdistance=100&date2=1883&ortext=&proxtext=mound+city&phrasetext=nelson+howard&andtext=&dateFilterType=yearRange&page=1&sort=date](https://chroniclingamerica.loc.gov/search/pages/results/list/?date1=1883&rows=100&searchType=advanced&language=&proxdistance=100&date2=1883&ortext=&proxtext=mound+city&phrasetext=nelson+howard&andtext=&dateFilterType=yearRange&page=1&sort=date)\n"
   ],
   "id": "e020f74646a7fbd2"
  },
  {
   "metadata": {},
   "cell_type": "code",
   "source": [
    "def build_chron_am_search(row):\n",
    "    base_url = \"https://chroniclingamerica.loc.gov/search/pages/results/list/\"\n",
    "    date1 = row['year']\n",
    "    date2 = row['year']\n",
    "    proxtext = row['city'].replace(' ', '+')\n",
    "    phrasetext = row['victim'].replace(' ', '+')\n",
    "\n",
    "    search_url = (f\"{base_url}?date1={date1}&rows=1000&searchType=advanced&language=\"\n",
    "                  f\"&proxdistance=100&date2={date2}&ortext=&proxtext={proxtext}\"\n",
    "                  f\"&phrasetext={phrasetext}&andtext=&dateFilterType=yearRange&page=1&sort=date\")\n",
    "    \n",
    "    return search_url\n",
    "\n",
    "df['search_url'] = df.apply(build_chron_am_search, axis=1)\n",
    "\n",
    "df"
   ],
   "id": "afe00afeb57081a4",
   "outputs": [],
   "execution_count": null
  },
  {
   "metadata": {},
   "cell_type": "code",
   "source": "df['search_url']",
   "id": "6d6dd811f98ad1c4",
   "outputs": [],
   "execution_count": null
  },
  {
   "metadata": {},
   "cell_type": "code",
   "source": "df.to_csv('seguin_rigby_data_black_subset.csv', index=False, encoding='utf-8')",
   "id": "8c317cf73e259ba1",
   "outputs": [],
   "execution_count": null
  },
  {
   "metadata": {},
   "cell_type": "code",
   "source": "",
   "id": "13ea5ba452ae758c",
   "outputs": [],
   "execution_count": null
  }
 ],
 "metadata": {
  "kernelspec": {
   "display_name": "Python 3",
   "language": "python",
   "name": "python3"
  },
  "language_info": {
   "codemirror_mode": {
    "name": "ipython",
    "version": 2
   },
   "file_extension": ".py",
   "mimetype": "text/x-python",
   "name": "python",
   "nbconvert_exporter": "python",
   "pygments_lexer": "ipython2",
   "version": "2.7.6"
  }
 },
 "nbformat": 4,
 "nbformat_minor": 5
}

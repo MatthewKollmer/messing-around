{
 "cells": [
  {
   "metadata": {},
   "cell_type": "markdown",
   "source": [
    "# Post-Processing Steps for Lynching Event Reprint Clusters\n",
    "\n",
    "This notebook presents code used in post-processing for the lynching events. More likely to be added as more post-processing needs are identified.\n",
    "\n",
    "But as it stands, this code fixes some OCR errors where the victim names are missing spaces between parts of their full name. It also extracts newspaper clippings–the 100 words appearing before and after the victim's name."
   ],
   "id": "714bbc6843afd901"
  },
  {
   "metadata": {},
   "cell_type": "code",
   "source": [
    "import re\n",
    "import pandas as pd\n",
    "import os"
   ],
   "id": "f1f73b7facd0b80d",
   "outputs": [],
   "execution_count": null
  },
  {
   "metadata": {},
   "cell_type": "code",
   "source": [
    "def fix_names(text, victim_name):\n",
    "    full_name = victim_name.split()\n",
    "    \n",
    "    ocr_error_patterns = [re.compile(r'(' + re.escape(full_name[i]) + r')(' + re.escape(full_name[i + 1]) + r')') for i in range(len(full_name) - 1)]\n",
    "    \n",
    "    for pattern in ocr_error_patterns:\n",
    "        text = pattern.sub(r'\\1 \\2', text)\n",
    "    \n",
    "    return text"
   ],
   "id": "8a04d285f7d4c43c",
   "outputs": [],
   "execution_count": null
  },
  {
   "metadata": {},
   "cell_type": "code",
   "source": [
    "def newspaper_clippings(text, victim_name, word_radius=100):\n",
    "    # fix_names() function first\n",
    "    text = fix_names(text, victim_name)\n",
    "    \n",
    "    pattern = re.compile(re.escape(victim_name))\n",
    "    \n",
    "    words = text.split()\n",
    "    \n",
    "    all_clippings = []\n",
    "    \n",
    "    for match in pattern.finditer(text):\n",
    "        start_position = match.start()\n",
    "        end_position = match.end()\n",
    "        \n",
    "        start_word_index = len(re.findall(r'\\w+', text[:start_position]))\n",
    "        end_word_index = len(re.findall(r'\\w+', text[:end_position]))\n",
    "\n",
    "        clipping_start_index = max(start_word_index - word_radius, 0)\n",
    "        clipping_end_index = min(end_word_index + word_radius, len(words))\n",
    "        \n",
    "        clipping = ' '.join(words[clipping_start_index:clipping_end_index])\n",
    "        all_clippings.append(clipping)\n",
    "    \n",
    "    # in case of multiple matches, split them with pipe symbol: |\n",
    "    return ' | '.join(all_clippings) if all_clippings else None"
   ],
   "id": "d77ff4dd2c69672a",
   "outputs": [],
   "execution_count": null
  },
  {
   "metadata": {},
   "cell_type": "code",
   "source": [
    "directory = 'lynch_clusters'\n",
    "\n",
    "for filename in os.listdir(directory):\n",
    "    if filename.endswith('.csv'):\n",
    "        file_path = os.path.join(directory, filename)\n",
    "        \n",
    "        df = pd.read_csv(file_path)\n",
    "        \n",
    "        victim_name = filename.replace('.csv', '').replace('_', ' ')\n",
    "        \n",
    "        clippings = []\n",
    "        \n",
    "        for text in df['text']:\n",
    "            if pd.isna(text):\n",
    "                clippings.append(None)\n",
    "            else:\n",
    "                clipping = newspaper_clippings(text, victim_name)\n",
    "                clippings.append(clipping)\n",
    "        \n",
    "        df['clippings'] = clippings\n",
    "        \n",
    "        df.to_csv(file_path, index=False)\n",
    "        print(f'Updated {filename} with clippings.')"
   ],
   "id": "68452219b841852e",
   "outputs": [],
   "execution_count": null
  },
  {
   "metadata": {},
   "cell_type": "code",
   "source": "",
   "id": "95ccb146dd1d0610",
   "outputs": [],
   "execution_count": null
  }
 ],
 "metadata": {
  "kernelspec": {
   "display_name": "Python 3",
   "language": "python",
   "name": "python3"
  },
  "language_info": {
   "codemirror_mode": {
    "name": "ipython",
    "version": 2
   },
   "file_extension": ".py",
   "mimetype": "text/x-python",
   "name": "python",
   "nbconvert_exporter": "python",
   "pygments_lexer": "ipython2",
   "version": "2.7.6"
  }
 },
 "nbformat": 4,
 "nbformat_minor": 5
}
